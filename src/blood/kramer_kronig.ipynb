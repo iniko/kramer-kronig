{
 "cells": [
  {
   "cell_type": "code",
   "execution_count": null,
   "metadata": {
    "collapsed": true
   },
   "outputs": [],
   "source": [
    "import matplotlib.pyplot as plt\n",
    "import os\n",
    "import pandas as pd\n",
    "import numpy as np\n",
    "\n",
    "from impedance import preprocessing\n",
    "from impedance.validation import linKK\n",
    "from impedance.visualization import plot_nyquist, plot_residuals"
   ]
  },
  {
   "cell_type": "code",
   "execution_count": null,
   "outputs": [],
   "source": [
    "FOLDER_NAMES = [\"autolab/03112020_human_blood\"]\n",
    "\n",
    "DATA_PATH = \"../../data/\"\n",
    "FILENAME_STRING = \"blood\"\n",
    "FILENAME_RULE = \"starts\"\n",
    "LOWER_CUTOFF_FREQUENCY = 630.96\n",
    "\n",
    "FREQUENCY_HEADER = \"Frequency (Hz)\"\n",
    "IMPEDANCE_HEADER_ABS = \"magnitude\"\n",
    "IMPEDANCE_HEADER_PHASE = \"phase\"\n",
    "IMPEDANCE_HEADER_REAL_COMPONENT = \"Z' (Ω)\"\n",
    "IMPEDANCE_HEADER_IMAGINARY_COMPONENT = \"-Z'' (Ω)\""
   ],
   "metadata": {
    "collapsed": false,
    "pycharm": {
     "name": "#%%\n"
    }
   }
  },
  {
   "cell_type": "code",
   "execution_count": null,
   "outputs": [],
   "source": [
    "# Some helper functions\n",
    "\n",
    "\n",
    "def get_file_name(file):\n",
    "    heat, tail = os.path.split(file)\n",
    "    return tail\n",
    "\n",
    "\n",
    "def get_files(path, filename_string, filename_rule):\n",
    "    \"\"\"Return a list of files that contain given string from a given directory.\n",
    "    Filename rule determines whether the string is at the beginning or the end of the file.\n",
    "            \"\"\"\n",
    "    files = []\n",
    "    with os.scandir(path) as all_files:\n",
    "        for file in all_files:\n",
    "            if filename_rule == 'starts':\n",
    "                if file.name.startswith(filename_string):\n",
    "                    files.append(file)\n",
    "\n",
    "            if filename_rule == 'ends':\n",
    "                if file.name.endswith(filename_string):\n",
    "                    files.append(file)\n",
    "    return files\n",
    "\n",
    "\n",
    "\n",
    "def read_autolab_file(file):\n",
    "    \"\"\"Return a dataframe with the data from the file\"\"\"\n",
    "    delimiter = \"\\t\"\n",
    "    df = pd.read_csv(file, delimiter=delimiter)\n",
    "    # Add file name to data frame\n",
    "    df[\"file_name\"] = get_file_name(file)\n",
    "    return df\n",
    "\n",
    "\n",
    "\n",
    "def load_from_files(files, header_rows=0):\n",
    "    \"\"\"Load data from a list of files and returns list of dataframes\n",
    "            \"\"\"\n",
    "    data_frames = [read_autolab_file(file) for file in files]\n",
    "    return data_frames\n",
    "\n",
    "\n",
    "def load_df(files):\n",
    "    return pd.concat(load_from_files(files))\n",
    "\n",
    "\n",
    "def get_f_z_list(df):\n",
    "    \"\"\"Formats the data from the dataframe for the validate_kk(df) function\n",
    "        \"\"\"\n",
    "    patients = len(pd.unique(df[\"patient\"]))\n",
    "    array = df.loc[:, [FREQUENCY_HEADER, IMPEDANCE_HEADER_REAL_COMPONENT, IMPEDANCE_HEADER_IMAGINARY_COMPONENT]].to_numpy()\n",
    "    f = array[:, 0]\n",
    "    Z = array[:, 1] - 1j*array[:, 2]\n",
    "    f = np.reshape(f, (-1, patients), order='F')\n",
    "    Z = np.reshape(Z, (-1, patients), order='F')\n",
    "\n",
    "    return f, Z\n",
    "\n",
    "\n",
    "def validate_kk(df):\n",
    "    \"\"\"This function is copied from the example from the documentation page\n",
    "        \"\"\"\n",
    "    f_array, Z_array = get_f_z_list(df)\n",
    "\n",
    "    for i in range(f_array.shape[1]):\n",
    "        f, Z = f_array[:, i], Z_array[:, i]\n",
    "\n",
    "        # keep only the impedance data in the first quadrant\n",
    "        f, Z = preprocessing.ignoreBelowX(f, Z)\n",
    "        print(f\"Low frequency cutoff = {f[-1]}\")\n",
    "        M, mu, Z_linKK, res_real, res_imag = linKK(f, Z, c=.5, max_M=2, fit_type='complex', add_cap=True)\n",
    "\n",
    "        print('\\nCompleted Lin-KK Fit\\nM = {:d}\\nmu = {:.2f}'.format(M, mu))\n",
    "\n",
    "        M = 26\n",
    "        mu = 0.31\n",
    "\n",
    "        fig = plt.figure(figsize=(7, 6))\n",
    "        gs = fig.add_gridspec(3, 1)\n",
    "        ax1 = fig.add_subplot(gs[:2,:])\n",
    "        ax2 = fig.add_subplot(gs[2,:])\n",
    "\n",
    "        # plot original data\n",
    "        plot_nyquist(ax1, Z, fmt='s')\n",
    "\n",
    "        # plot measurement model\n",
    "        plot_nyquist(ax1, Z_linKK, fmt='-', scale=1e3, units='\\Omega')\n",
    "\n",
    "        ax1.legend(['Data', 'Lin-KK model'], loc=2, fontsize=12)\n",
    "\n",
    "        # Plot residuals\n",
    "        plot_residuals(ax2, f, res_real, res_imag, y_limits=(-2,2))\n",
    "\n",
    "        plt.tight_layout()\n",
    "        plt.show()\n",
    "\n"
   ],
   "metadata": {
    "collapsed": false,
    "pycharm": {
     "name": "#%%\n"
    }
   }
  },
  {
   "cell_type": "code",
   "execution_count": null,
   "outputs": [],
   "source": [
    "files = [file for FOLDER_NAME in FOLDER_NAMES\n",
    "         for file in get_files(os.path.join(DATA_PATH, FOLDER_NAME), FILENAME_STRING, FILENAME_RULE)]\n",
    "df = load_df(files)\n",
    "validate_kk(df)"
   ],
   "metadata": {
    "collapsed": false,
    "pycharm": {
     "name": "#%%\n"
    }
   }
  }
 ],
 "metadata": {
  "kernelspec": {
   "display_name": "Python 3",
   "language": "python",
   "name": "python3"
  },
  "language_info": {
   "codemirror_mode": {
    "name": "ipython",
    "version": 2
   },
   "file_extension": ".py",
   "mimetype": "text/x-python",
   "name": "python",
   "nbconvert_exporter": "python",
   "pygments_lexer": "ipython2",
   "version": "2.7.6"
  }
 },
 "nbformat": 4,
 "nbformat_minor": 0
}